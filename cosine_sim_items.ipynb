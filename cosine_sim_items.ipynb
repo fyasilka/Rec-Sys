{
 "cells": [
  {
   "cell_type": "code",
   "execution_count": null,
   "id": "ca1a429e-d7e1-46f4-9e3c-a075f153b534",
   "metadata": {},
   "outputs": [],
   "source": [
    "# 25.11.24 13.36 на данный момент актуальный способ расчета косинусного сходства. \n",
    "# сохранил в гигантский датасет df_cos1 = pd.read_csv('../vkrecsys/cos_sim_output1.csv') 5,3Гб\n",
    "# считает батчами по 1000 штук. хз что по точнисти, но думаю, не принципиально, может лучше к датасету и не обращаться."
   ]
  },
  {
   "cell_type": "code",
   "execution_count": 1,
   "id": "f4dc5bab-0ba6-4b68-9d12-5d224f81cee8",
   "metadata": {},
   "outputs": [],
   "source": [
    "import pandas as pd\n",
    "from scipy.sparse.linalg import svds\n",
    "from sklearn.metrics.pairwise import cosine_similarity\n",
    "import numpy as np\n",
    "\n",
    "# Чтение данных из parquet файла\n",
    "df = pd.read_parquet('../vkrecsys/items_meta.parquet.parquet')\n",
    "\n",
    "# Извлечение массива эмбеддингов\n",
    "embeddings = np.stack(df['embeddings'])\n",
    "\n",
    "# Размер одной партии\n",
    "batch_size = 1000\n",
    "\n",
    "# Создаем пустой список для хранения результатов\n",
    "cosine_similarities = []\n",
    "\n",
    "# Обрабатываем данные партиями\n",
    "for i in range(0, len(embeddings), batch_size):\n",
    "    batch_embeddings = embeddings[i:i + batch_size]\n",
    "    \n",
    "    # Применяем SVD для уменьшения размерности\n",
    "    U, s, Vh = svds(batch_embeddings, k=30)  # выбираем количество компонент (k=5)\n",
    "    reduced_batch_embeddings = U @ np.diag(s)\n",
    "    \n",
    "    # Вычисляем косинусную схожесть внутри партии\n",
    "    batch_cosine_sims = cosine_similarity(reduced_batch_embeddings)\n",
    "    \n",
    "    # Добавляем результаты текущей партии в общий список\n",
    "    cosine_similarities.extend(batch_cosine_sims)\n",
    "\n",
    "# Добавим результаты обратно в DataFrame\n",
    "df['cosine_similarities'] = cosine_similarities\n"
   ]
  },
  {
   "cell_type": "code",
   "execution_count": 6,
   "id": "6b64f1ee-8f63-4942-8b6c-77771b79151d",
   "metadata": {},
   "outputs": [
    {
     "name": "stdout",
     "output_type": "stream",
     "text": [
      "<class 'pandas.core.frame.DataFrame'>\n",
      "RangeIndex: 337727 entries, 0 to 337726\n",
      "Data columns (total 5 columns):\n",
      " #   Column               Non-Null Count   Dtype \n",
      "---  ------               --------------   ----- \n",
      " 0   item_id              337727 non-null  uint32\n",
      " 1   source_id            337727 non-null  uint32\n",
      " 2   duration             337727 non-null  uint8 \n",
      " 3   embeddings           337727 non-null  object\n",
      " 4   cosine_similarities  337727 non-null  object\n",
      "dtypes: object(2), uint32(2), uint8(1)\n",
      "memory usage: 8.1+ MB\n"
     ]
    }
   ],
   "source": [
    "df.info()"
   ]
  },
  {
   "cell_type": "code",
   "execution_count": 2,
   "id": "eb795b23-4b18-4aa6-8977-8b0a416999d8",
   "metadata": {},
   "outputs": [
    {
     "data": {
      "text/html": [
       "<div>\n",
       "<style scoped>\n",
       "    .dataframe tbody tr th:only-of-type {\n",
       "        vertical-align: middle;\n",
       "    }\n",
       "\n",
       "    .dataframe tbody tr th {\n",
       "        vertical-align: top;\n",
       "    }\n",
       "\n",
       "    .dataframe thead th {\n",
       "        text-align: right;\n",
       "    }\n",
       "</style>\n",
       "<table border=\"1\" class=\"dataframe\">\n",
       "  <thead>\n",
       "    <tr style=\"text-align: right;\">\n",
       "      <th></th>\n",
       "      <th>item_id</th>\n",
       "      <th>source_id</th>\n",
       "      <th>duration</th>\n",
       "      <th>embeddings</th>\n",
       "      <th>cosine_similarities</th>\n",
       "    </tr>\n",
       "  </thead>\n",
       "  <tbody>\n",
       "    <tr>\n",
       "      <th>0</th>\n",
       "      <td>0</td>\n",
       "      <td>1869</td>\n",
       "      <td>13</td>\n",
       "      <td>[0.07607838, 0.24312432, -0.07126159, 0.068710...</td>\n",
       "      <td>[0.99999994, 0.1686182, 0.36216357, 0.30833608...</td>\n",
       "    </tr>\n",
       "    <tr>\n",
       "      <th>1</th>\n",
       "      <td>1</td>\n",
       "      <td>1869</td>\n",
       "      <td>8</td>\n",
       "      <td>[-0.2897247, 0.016220074, -0.14935663, 0.08754...</td>\n",
       "      <td>[0.1686182, 1.0000001, 0.62054056, 0.5462112, ...</td>\n",
       "    </tr>\n",
       "    <tr>\n",
       "      <th>2</th>\n",
       "      <td>2</td>\n",
       "      <td>1869</td>\n",
       "      <td>10</td>\n",
       "      <td>[-0.08479501, 0.16359554, -0.12039807, 0.09242...</td>\n",
       "      <td>[0.36216357, 0.62054056, 0.99999994, 0.6539094...</td>\n",
       "    </tr>\n",
       "    <tr>\n",
       "      <th>3</th>\n",
       "      <td>3</td>\n",
       "      <td>1869</td>\n",
       "      <td>49</td>\n",
       "      <td>[-0.061852332, 0.14139329, -0.00040801117, -0....</td>\n",
       "      <td>[0.30833608, 0.5462112, 0.6539094, 1.0000001, ...</td>\n",
       "    </tr>\n",
       "    <tr>\n",
       "      <th>4</th>\n",
       "      <td>4</td>\n",
       "      <td>1869</td>\n",
       "      <td>8</td>\n",
       "      <td>[-0.12159933, -0.019279012, -0.13987888, 0.020...</td>\n",
       "      <td>[0.38104185, 0.74441653, 0.84191394, 0.6869687...</td>\n",
       "    </tr>\n",
       "  </tbody>\n",
       "</table>\n",
       "</div>"
      ],
      "text/plain": [
       "   item_id  source_id  duration  \\\n",
       "0        0       1869        13   \n",
       "1        1       1869         8   \n",
       "2        2       1869        10   \n",
       "3        3       1869        49   \n",
       "4        4       1869         8   \n",
       "\n",
       "                                          embeddings  \\\n",
       "0  [0.07607838, 0.24312432, -0.07126159, 0.068710...   \n",
       "1  [-0.2897247, 0.016220074, -0.14935663, 0.08754...   \n",
       "2  [-0.08479501, 0.16359554, -0.12039807, 0.09242...   \n",
       "3  [-0.061852332, 0.14139329, -0.00040801117, -0....   \n",
       "4  [-0.12159933, -0.019279012, -0.13987888, 0.020...   \n",
       "\n",
       "                                 cosine_similarities  \n",
       "0  [0.99999994, 0.1686182, 0.36216357, 0.30833608...  \n",
       "1  [0.1686182, 1.0000001, 0.62054056, 0.5462112, ...  \n",
       "2  [0.36216357, 0.62054056, 0.99999994, 0.6539094...  \n",
       "3  [0.30833608, 0.5462112, 0.6539094, 1.0000001, ...  \n",
       "4  [0.38104185, 0.74441653, 0.84191394, 0.6869687...  "
      ]
     },
     "execution_count": 2,
     "metadata": {},
     "output_type": "execute_result"
    }
   ],
   "source": [
    "df.head()"
   ]
  },
  {
   "cell_type": "code",
   "execution_count": 8,
   "id": "dc533d4f-f1ee-4952-b0fd-c6578ef31bfb",
   "metadata": {},
   "outputs": [],
   "source": [
    "# Сохранить результат в новый файл\n",
    "df.to_csv('cos_sim_output1.csv', index=False)"
   ]
  },
  {
   "cell_type": "code",
   "execution_count": 9,
   "id": "8dd3566e-4410-448c-be72-27d10da33355",
   "metadata": {},
   "outputs": [],
   "source": [
    "df_cos1 = pd.read_csv('../vkrecsys/cos_sim_output1.csv')"
   ]
  },
  {
   "cell_type": "code",
   "execution_count": 10,
   "id": "9ccd031b-e70d-425b-9b6d-15d3e9ba7a62",
   "metadata": {},
   "outputs": [
    {
     "data": {
      "text/html": [
       "<div>\n",
       "<style scoped>\n",
       "    .dataframe tbody tr th:only-of-type {\n",
       "        vertical-align: middle;\n",
       "    }\n",
       "\n",
       "    .dataframe tbody tr th {\n",
       "        vertical-align: top;\n",
       "    }\n",
       "\n",
       "    .dataframe thead th {\n",
       "        text-align: right;\n",
       "    }\n",
       "</style>\n",
       "<table border=\"1\" class=\"dataframe\">\n",
       "  <thead>\n",
       "    <tr style=\"text-align: right;\">\n",
       "      <th></th>\n",
       "      <th>item_id</th>\n",
       "      <th>source_id</th>\n",
       "      <th>duration</th>\n",
       "      <th>embeddings</th>\n",
       "      <th>cosine_similarities</th>\n",
       "    </tr>\n",
       "  </thead>\n",
       "  <tbody>\n",
       "    <tr>\n",
       "      <th>0</th>\n",
       "      <td>0</td>\n",
       "      <td>1869</td>\n",
       "      <td>13</td>\n",
       "      <td>[ 7.60783777e-02  2.43124321e-01 -7.12615922e-...</td>\n",
       "      <td>[ 9.99999940e-01  1.68618202e-01  3.62163574e-...</td>\n",
       "    </tr>\n",
       "    <tr>\n",
       "      <th>1</th>\n",
       "      <td>1</td>\n",
       "      <td>1869</td>\n",
       "      <td>8</td>\n",
       "      <td>[-0.2897247   0.01622007 -0.14935663  0.087541...</td>\n",
       "      <td>[ 1.68618202e-01  1.00000012e+00  6.20540559e-...</td>\n",
       "    </tr>\n",
       "    <tr>\n",
       "      <th>2</th>\n",
       "      <td>2</td>\n",
       "      <td>1869</td>\n",
       "      <td>10</td>\n",
       "      <td>[-0.08479501  0.16359554 -0.12039807  0.092425...</td>\n",
       "      <td>[ 3.62163574e-01  6.20540559e-01  9.99999940e-...</td>\n",
       "    </tr>\n",
       "    <tr>\n",
       "      <th>3</th>\n",
       "      <td>3</td>\n",
       "      <td>1869</td>\n",
       "      <td>49</td>\n",
       "      <td>[-0.06185233  0.14139329 -0.00040801 -0.024462...</td>\n",
       "      <td>[ 3.08336079e-01  5.46211183e-01  6.53909385e-...</td>\n",
       "    </tr>\n",
       "    <tr>\n",
       "      <th>4</th>\n",
       "      <td>4</td>\n",
       "      <td>1869</td>\n",
       "      <td>8</td>\n",
       "      <td>[-0.12159933 -0.01927901 -0.13987888  0.020500...</td>\n",
       "      <td>[ 3.81041855e-01  7.44416535e-01  8.41913939e-...</td>\n",
       "    </tr>\n",
       "  </tbody>\n",
       "</table>\n",
       "</div>"
      ],
      "text/plain": [
       "   item_id  source_id  duration  \\\n",
       "0        0       1869        13   \n",
       "1        1       1869         8   \n",
       "2        2       1869        10   \n",
       "3        3       1869        49   \n",
       "4        4       1869         8   \n",
       "\n",
       "                                          embeddings  \\\n",
       "0  [ 7.60783777e-02  2.43124321e-01 -7.12615922e-...   \n",
       "1  [-0.2897247   0.01622007 -0.14935663  0.087541...   \n",
       "2  [-0.08479501  0.16359554 -0.12039807  0.092425...   \n",
       "3  [-0.06185233  0.14139329 -0.00040801 -0.024462...   \n",
       "4  [-0.12159933 -0.01927901 -0.13987888  0.020500...   \n",
       "\n",
       "                                 cosine_similarities  \n",
       "0  [ 9.99999940e-01  1.68618202e-01  3.62163574e-...  \n",
       "1  [ 1.68618202e-01  1.00000012e+00  6.20540559e-...  \n",
       "2  [ 3.62163574e-01  6.20540559e-01  9.99999940e-...  \n",
       "3  [ 3.08336079e-01  5.46211183e-01  6.53909385e-...  \n",
       "4  [ 3.81041855e-01  7.44416535e-01  8.41913939e-...  "
      ]
     },
     "execution_count": 10,
     "metadata": {},
     "output_type": "execute_result"
    }
   ],
   "source": [
    "df_cos1.head()"
   ]
  },
  {
   "cell_type": "code",
   "execution_count": 11,
   "id": "cb64c51c-9e96-4994-8252-e905eeeb18f1",
   "metadata": {},
   "outputs": [
    {
     "name": "stdout",
     "output_type": "stream",
     "text": [
      "<class 'pandas.core.frame.DataFrame'>\n",
      "RangeIndex: 337727 entries, 0 to 337726\n",
      "Data columns (total 5 columns):\n",
      " #   Column               Non-Null Count   Dtype \n",
      "---  ------               --------------   ----- \n",
      " 0   item_id              337727 non-null  int64 \n",
      " 1   source_id            337727 non-null  int64 \n",
      " 2   duration             337727 non-null  int64 \n",
      " 3   embeddings           337727 non-null  object\n",
      " 4   cosine_similarities  337727 non-null  object\n",
      "dtypes: int64(3), object(2)\n",
      "memory usage: 12.9+ MB\n"
     ]
    }
   ],
   "source": [
    "df_cos1.info()"
   ]
  },
  {
   "cell_type": "code",
   "execution_count": null,
   "id": "77f2e259-0b82-486e-99b1-651e193c6556",
   "metadata": {},
   "outputs": [],
   "source": []
  }
 ],
 "metadata": {
  "kernelspec": {
   "display_name": "Python 3 (ipykernel)",
   "language": "python",
   "name": "python3"
  },
  "language_info": {
   "codemirror_mode": {
    "name": "ipython",
    "version": 3
   },
   "file_extension": ".py",
   "mimetype": "text/x-python",
   "name": "python",
   "nbconvert_exporter": "python",
   "pygments_lexer": "ipython3",
   "version": "3.12.7"
  }
 },
 "nbformat": 4,
 "nbformat_minor": 5
}
